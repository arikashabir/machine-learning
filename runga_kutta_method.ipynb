{
  "nbformat": 4,
  "nbformat_minor": 0,
  "metadata": {
    "colab": {
      "name": "runga kutta method",
      "provenance": [],
      "collapsed_sections": [],
      "authorship_tag": "ABX9TyNoXtJxxhEmwhtld93AevFZ",
      "include_colab_link": true
    },
    "kernelspec": {
      "name": "python3",
      "display_name": "Python 3"
    },
    "language_info": {
      "name": "python"
    }
  },
  "cells": [
    {
      "cell_type": "markdown",
      "metadata": {
        "id": "view-in-github",
        "colab_type": "text"
      },
      "source": [
        "<a href=\"https://colab.research.google.com/github/arikashabir/machine-learning/blob/main/runga_kutta_method.ipynb\" target=\"_parent\"><img src=\"https://colab.research.google.com/assets/colab-badge.svg\" alt=\"Open In Colab\"/></a>"
      ]
    },
    {
      "cell_type": "code",
      "execution_count": 1,
      "metadata": {
        "colab": {
          "base_uri": "https://localhost:8080/"
        },
        "id": "mv7a5CQEvpLG",
        "outputId": "7a5ed444-60a1-4e5e-d3a8-aca0be5c4858"
      },
      "outputs": [
        {
          "output_type": "stream",
          "name": "stdout",
          "text": [
            "y(x) = 0.6455901672629244\n"
          ]
        }
      ],
      "source": [
        "\n",
        "# Python3 program to implement Runge\n",
        "# Kutta method\n",
        " \n",
        "# A sample differential equation\n",
        "# \"dy/dx = (x - y)/2\"\n",
        "def dydx(x, y) :\n",
        " \n",
        "    return (x + y - 2);\n",
        " \n",
        "# Finds value of y for a given x\n",
        "# using step size h\n",
        "# and initial value y0 at x0.\n",
        "def rungeKutta(x0, y0, x, h) :\n",
        " \n",
        "    # Count number of iterations\n",
        "    # using step size or\n",
        "    # step height h\n",
        "    n = round((x - x0) / h);\n",
        "     \n",
        "        # Iterate for number of iterations\n",
        "    y = y0;\n",
        "     \n",
        "    for i in range(1, n + 1) :\n",
        "         \n",
        "                # Apply Runge Kutta Formulas\n",
        "        # to find next value of y\n",
        "        k1 = h * dydx(x0, y);\n",
        "        k2 = h * dydx(x0 + 0.5 * h, y + 0.5 * k1);\n",
        " \n",
        "        # Update next value of y\n",
        "        y = y + (1.0 / 6.0) * (k1 + 2 * k2);\n",
        " \n",
        "        # Update next value of x\n",
        "        x0 = x0 + h;\n",
        " \n",
        "    return y;\n",
        " \n",
        "# Driver Code\n",
        "if __name__ == \"__main__\" :\n",
        " \n",
        "    x0 = 0; y = 1;\n",
        "    x = 2; h = 0.2;\n",
        " \n",
        "    print(\"y(x) =\",rungeKutta(x0, y, x, h));\n",
        " \n"
      ]
    }
  ]
}