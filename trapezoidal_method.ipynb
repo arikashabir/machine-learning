{
  "nbformat": 4,
  "nbformat_minor": 0,
  "metadata": {
    "colab": {
      "name": "trapezoidal method",
      "provenance": [],
      "collapsed_sections": [],
      "authorship_tag": "ABX9TyMlfBKZExc3GEiorxpM/ws3",
      "include_colab_link": true
    },
    "kernelspec": {
      "name": "python3",
      "display_name": "Python 3"
    },
    "language_info": {
      "name": "python"
    }
  },
  "cells": [
    {
      "cell_type": "markdown",
      "metadata": {
        "id": "view-in-github",
        "colab_type": "text"
      },
      "source": [
        "<a href=\"https://colab.research.google.com/github/arikashabir/machine-learning/blob/main/trapezoidal_method.ipynb\" target=\"_parent\"><img src=\"https://colab.research.google.com/assets/colab-badge.svg\" alt=\"Open In Colab\"/></a>"
      ]
    },
    {
      "cell_type": "code",
      "execution_count": 12,
      "metadata": {
        "colab": {
          "base_uri": "https://localhost:8080/"
        },
        "id": "7JCqtGKpoTlf",
        "outputId": "d866cef7-2bca-46cb-dd1d-e91c5557e9b9"
      },
      "outputs": [
        {
          "output_type": "stream",
          "name": "stdout",
          "text": [
            "Enter lower limit of integration: 0\n",
            "Enter upper limit of integration: 1\n",
            "Enter number of sub intervals: 6\n",
            "Integration result by Trapezoidal method is: 0.784241\n"
          ]
        }
      ],
      "source": [
        "# Trapezoidal Method\n",
        "\n",
        "# Define function to integrate\n",
        "def f(x):\n",
        "    return 1/(1 + x**2)\n",
        "\n",
        "# Implementing trapezoidal method\n",
        "def trapezoidal(x0,xn,n):\n",
        "    # calculating step size\n",
        "    h = (xn - x0) / n\n",
        "    \n",
        "    # Finding sum \n",
        "    integration = f(x0) + f(xn)\n",
        "    \n",
        "    for i in range(1,n):\n",
        "        k = x0 + i*h\n",
        "        integration = integration + 2 * f(k)\n",
        "    \n",
        "    # Finding final integration value\n",
        "    integration = integration * h/2\n",
        "    \n",
        "    return integration\n",
        "    \n",
        "# Input section\n",
        "lower_limit = float(input(\"Enter lower limit of integration: \"))\n",
        "upper_limit = float(input(\"Enter upper limit of integration: \"))\n",
        "sub_interval = int(input(\"Enter number of sub intervals: \"))\n",
        "\n",
        "# Call trapezoidal() method and get result\n",
        "result = trapezoidal(lower_limit, upper_limit, sub_interval)\n",
        "print(\"Integration result by Trapezoidal method is: %0.6f\" % (result) )\n"
      ]
    },
    {
      "cell_type": "code",
      "source": [
        ""
      ],
      "metadata": {
        "id": "0MjfuO9jtHT7"
      },
      "execution_count": null,
      "outputs": []
    },
    {
      "cell_type": "code",
      "source": [
        "# Trapezoidal Method\n",
        "\n",
        "# Define function to integrate\n",
        "def f(x):\n",
        "    return 1/(1 + x**2)"
      ],
      "metadata": {
        "id": "zTcT2gqVtHsj"
      },
      "execution_count": 4,
      "outputs": []
    },
    {
      "cell_type": "code",
      "source": [
        "# Implementing trapezoidal method\n",
        "def trapezoidal(x0,xn,n):\n",
        "    # calculating step size\n",
        "    h = (xn - x0) / n"
      ],
      "metadata": {
        "id": "aF8aPYFqtRl7"
      },
      "execution_count": 5,
      "outputs": []
    },
    {
      "cell_type": "code",
      "source": [
        " # Finding sum \n",
        "integration =f(x0)+f(xn) \n",
        "    \n",
        "       for i in range(1,n):\n",
        "        k = x0 + i*h\n",
        "        integration = integration + 2 * f(k)\n",
        "    "
      ],
      "metadata": {
        "colab": {
          "base_uri": "https://localhost:8080/",
          "height": 130
        },
        "id": "1GXGCbzhtYdy",
        "outputId": "1910dff7-75b6-4c2c-db2e-650f05a1e68d"
      },
      "execution_count": 11,
      "outputs": [
        {
          "output_type": "error",
          "ename": "IndentationError",
          "evalue": "ignored",
          "traceback": [
            "\u001b[0;36m  File \u001b[0;32m\"<ipython-input-11-a9b81fab216a>\"\u001b[0;36m, line \u001b[0;32m4\u001b[0m\n\u001b[0;31m    for i in range(1,n):\u001b[0m\n\u001b[0m    ^\u001b[0m\n\u001b[0;31mIndentationError\u001b[0m\u001b[0;31m:\u001b[0m unexpected indent\n"
          ]
        }
      ]
    },
    {
      "cell_type": "code",
      "source": [
        "# Finding sum \n",
        "    integration = f(x0) + f(xn)"
      ],
      "metadata": {
        "colab": {
          "base_uri": "https://localhost:8080/",
          "height": 130
        },
        "id": "yODwxSI5tfnU",
        "outputId": "d1c92ed8-7d87-4fb7-b91a-b7461d265a23"
      },
      "execution_count": 7,
      "outputs": [
        {
          "output_type": "error",
          "ename": "IndentationError",
          "evalue": "ignored",
          "traceback": [
            "\u001b[0;36m  File \u001b[0;32m\"<ipython-input-7-04fdf818fae5>\"\u001b[0;36m, line \u001b[0;32m2\u001b[0m\n\u001b[0;31m    integration = f(x0) + f(xn)\u001b[0m\n\u001b[0m    ^\u001b[0m\n\u001b[0;31mIndentationError\u001b[0m\u001b[0;31m:\u001b[0m unexpected indent\n"
          ]
        }
      ]
    }
  ]
}