{
  "nbformat": 4,
  "nbformat_minor": 0,
  "metadata": {
    "colab": {
      "name": "linearregre.ipynb",
      "provenance": [],
      "authorship_tag": "ABX9TyMDGZLz+qSjOUF9XBZjIGXi",
      "include_colab_link": true
    },
    "kernelspec": {
      "name": "python3",
      "display_name": "Python 3"
    },
    "language_info": {
      "name": "python"
    }
  },
  "cells": [
    {
      "cell_type": "markdown",
      "metadata": {
        "id": "view-in-github",
        "colab_type": "text"
      },
      "source": [
        "<a href=\"https://colab.research.google.com/github/arikashabir/machine-learning/blob/main/linearregre.ipynb\" target=\"_parent\"><img src=\"https://colab.research.google.com/assets/colab-badge.svg\" alt=\"Open In Colab\"/></a>"
      ]
    },
    {
      "cell_type": "code",
      "execution_count": 1,
      "metadata": {
        "id": "cwB0_F8RZ4EG"
      },
      "outputs": [],
      "source": [
        "#programing for linear regression \n",
        "#importing numpy library for taking array as input \n",
        "import numpy as np \n",
        "#importing matplotlib.pyplot for plotting graph \n",
        "import matplotlib.pyplot as pt \n",
        "#importing sklearn for getting linear modeland datasets \n",
        "from sklearn import datasets,linear_model"
      ]
    },
    {
      "cell_type": "code",
      "source": [
        "regr = linear_model.LinearRegression()"
      ],
      "metadata": {
        "id": "6MkhRBWEeZq2"
      },
      "execution_count": 10,
      "outputs": []
    },
    {
      "cell_type": "code",
      "source": [
        "x = np.array([1,10,20,40,50,70,80,90,120])\n",
        "y = np.array([3,20,90,110,130,170,150,200,220])"
      ],
      "metadata": {
        "id": "HGLArq-Ye0Sd"
      },
      "execution_count": 13,
      "outputs": []
    },
    {
      "cell_type": "code",
      "source": [
        "x=x.reshape(-1,1)\n"
      ],
      "metadata": {
        "id": "5d9QgXOofu5-"
      },
      "execution_count": 15,
      "outputs": []
    },
    {
      "cell_type": "code",
      "source": [
        "regr.fit(x,y)"
      ],
      "metadata": {
        "colab": {
          "base_uri": "https://localhost:8080/"
        },
        "id": "V-m3ZiCigeFm",
        "outputId": "bc4654c1-e5ef-4dc1-faf3-b689276ca296"
      },
      "execution_count": 16,
      "outputs": [
        {
          "output_type": "execute_result",
          "data": {
            "text/plain": [
              "LinearRegression()"
            ]
          },
          "metadata": {},
          "execution_count": 16
        }
      ]
    },
    {
      "cell_type": "code",
      "source": [
        "y_pred=regr.predict(x)"
      ],
      "metadata": {
        "id": "SyH-55nihVlw"
      },
      "execution_count": 17,
      "outputs": []
    },
    {
      "cell_type": "code",
      "source": [
        "pt.scatter(x,y)\n",
        "pt.plot(x,y_pred,color='blue')\n",
        "pt.show()"
      ],
      "metadata": {
        "colab": {
          "base_uri": "https://localhost:8080/",
          "height": 267
        },
        "id": "6boZ3VvEhllI",
        "outputId": "d803ab63-2930-4325-c692-0fa02d33240e"
      },
      "execution_count": 18,
      "outputs": [
        {
          "output_type": "display_data",
          "data": {
            "text/plain": [
              "<Figure size 432x288 with 1 Axes>"
            ],
            "image/png": "[encoded data removed]"
          },
          "metadata": {
            "needs_background": "light"
          }
        }
      ]
    },
    {
      "cell_type": "code",
      "source": [
        "print(regr.coef_)"
      ],
      "metadata": {
        "colab": {
          "base_uri": "https://localhost:8080/"
        },
        "id": "iE745oGwhigt",
        "outputId": "f0f1e4d5-e6df-4a4e-f8ed-fee08e20234e"
      },
      "execution_count": 20,
      "outputs": [
        {
          "output_type": "stream",
          "name": "stdout",
          "text": [
            "[1.7951649]\n"
          ]
        }
      ]
    },
    {
      "cell_type": "code",
      "source": [
        "print(regr.intercept_)"
      ],
      "metadata": {
        "colab": {
          "base_uri": "https://localhost:8080/"
        },
        "id": "sopDjijei_3-",
        "outputId": "5bf5fb69-eba2-44e0-c1ac-7dbd4dd97d13"
      },
      "execution_count": 22,
      "outputs": [
        {
          "output_type": "stream",
          "name": "stdout",
          "text": [
            "25.50285344163572\n"
          ]
        }
      ]
    }
  ]
}