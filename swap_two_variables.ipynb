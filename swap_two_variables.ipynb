{
  "nbformat": 4,
  "nbformat_minor": 0,
  "metadata": {
    "colab": {
      "name": "swap two variables",
      "provenance": [],
      "collapsed_sections": [],
      "authorship_tag": "ABX9TyMiLmTtTkTuftvWjd926m2j",
      "include_colab_link": true
    },
    "kernelspec": {
      "name": "python3",
      "display_name": "Python 3"
    },
    "language_info": {
      "name": "python"
    }
  },
  "cells": [
    {
      "cell_type": "markdown",
      "metadata": {
        "id": "view-in-github",
        "colab_type": "text"
      },
      "source": [
        "<a href=\"https://colab.research.google.com/github/arikashabir/machine-learning/blob/main/swap_two_variables.ipynb\" target=\"_parent\"><img src=\"https://colab.research.google.com/assets/colab-badge.svg\" alt=\"Open In Colab\"/></a>"
      ]
    },
    {
      "cell_type": "code",
      "execution_count": 1,
      "metadata": {
        "colab": {
          "base_uri": "https://localhost:8080/"
        },
        "id": "xaHPo7POyXbv",
        "outputId": "abefb6e7-fdb0-483b-b0d4-e1baf4e2b10e"
      },
      "outputs": [
        {
          "output_type": "stream",
          "name": "stdout",
          "text": [
            "Value of x: 50\n",
            "Value of y: 10\n"
          ]
        }
      ],
      "source": [
        "# Python program to demonstrate\n",
        "# swapping of two variables\n",
        " \n",
        "x = 10\n",
        "y = 50\n",
        " \n",
        "# Swapping of two variables\n",
        "# Using third variable\n",
        "temp = x\n",
        "x = y\n",
        "y = temp\n",
        " \n",
        "print(\"Value of x:\", x)\n",
        "print(\"Value of y:\", y)"
      ]
    }
  ]
}